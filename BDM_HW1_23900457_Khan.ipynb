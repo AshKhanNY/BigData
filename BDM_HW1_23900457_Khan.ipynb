{
  "cells": [
    {
      "cell_type": "markdown",
      "metadata": {
        "id": "view-in-github",
        "colab_type": "text"
      },
      "source": [
        "<a href=\"https://colab.research.google.com/github/AshKhanNY/BigData/blob/main/BDM_HW1_23900457_Khan.ipynb\" target=\"_parent\"><img src=\"https://colab.research.google.com/assets/colab-badge.svg\" alt=\"Open In Colab\"/></a>"
      ]
    },
    {
      "cell_type": "markdown",
      "source": [
        "# Homework 1 - Streaming\n",
        "\n",
        "**SUBMISSION**: please download your colab as `.ipynb` and named it `BDM_HW1_<EMPL_ID>_<LastName>.ipynb` (replacing `<EMPL_ID>` and `<LastName>` with your information accordingly) before submitting on Blackboard.\n",
        "\n",
        "---\n",
        "Given a sale transaction data, stored in a CSV file with a similar structure as below:\n",
        "\n",
        "|Customer ID|Transaction ID|Date|Product ID|Item Cost|\n",
        "|---|---|---|---|---|\n",
        "|129482221|T29518|2018/02/28|A|10.99|\n",
        "|129482221|T29518|2018/02/28|B|4.99|\n",
        "|129482221|T93990|2018/03/15|A|9.99|\n",
        "|583910109|T11959|2017/04/13|C|0.99|\n",
        "|583910109|T29852|2017/12/25|D|13.99|\n",
        "|873803751|T35662|2018/01/01|D|13.99|\n",
        "|873803751|T17583|2018/05/08|B|5.99|\n",
        "|873803751|T17583|2018/05/08|A|11.99|\n",
        "|...|...|...|...|...|\n",
        "\n",
        "The input data is *sorted by* **`Customer ID`**. You are asked to compute the following table, *sorted by* **`Product ID`**.\n",
        "\n",
        "|Product ID|Customer Count|Total Revenue|\n",
        "|---|---|---|\n",
        "|A|2|32.97|\n",
        "|B|2|10.98|\n",
        "|C|1|0.99|\n",
        "|D|2|27.98|\n",
        "|...|...|...|\n",
        "\n",
        "where:\n",
        "\n",
        "* `Customer Count` is the number of unique customers that bought the product with the given ID\n",
        "* `Total Revenue` is the total cost of the product in all transactions, kept at 2 decimal places.\n",
        "\n",
        "\n",
        "**YOU ARE NOT ALLOWED TO STORE ALL DATA ROWS**.\n",
        "The data is assumed to be large, with the number of customers much larger than the number of products. You must complete the task in a streaming fashion, and try not to depend your storage on the number of customers. In particular, it is not advisable to have your storage complexity to be **O(n)** where n is the number of customer. \n",
        "\n",
        "In addition, you need to complete the provided `homework1` *generator* without importing any non-built-in Python packages (e.g. `pandas` is not allowed). \n",
        "\n",
        "For each record that `homework1` \"yields\", it must be a CSV-string, (comma separated list), e.g. `\"A,2,32,97\"`, or `B,2,10.98`, etc., that can be output directly to a CSV file."
      ],
      "metadata": {
        "id": "SyXDZtTwR6Yh"
      }
    },
    {
      "cell_type": "code",
      "source": [
        "# Download the data set\n",
        "!gdown 1DSxCQGZBaPG5bZ2T0fhgPA4wIkoIeiyi\n",
        "!wc -l sales.csv"
      ],
      "metadata": {
        "colab": {
          "base_uri": "https://localhost:8080/"
        },
        "id": "XAolmstqQP6o",
        "outputId": "ac2f3302-461f-4e2a-bf3c-dc91d46599ab"
      },
      "execution_count": null,
      "outputs": [
        {
          "output_type": "stream",
          "name": "stdout",
          "text": [
            "Downloading...\n",
            "From: https://drive.google.com/uc?id=1DSxCQGZBaPG5bZ2T0fhgPA4wIkoIeiyi\n",
            "To: /content/sales.csv\n",
            "\r  0% 0.00/42.6k [00:00<?, ?B/s]\r100% 42.6k/42.6k [00:00<00:00, 50.5MB/s]\n",
            "1001 sales.csv\n"
          ]
        }
      ]
    },
    {
      "cell_type": "code",
      "source": [
        "import csv\n",
        "\n",
        "def homework1(reader):\n",
        "    '''\n",
        "    reader: your input is DictReader, where you can access\n",
        "            columns by name, e.g. row['Customer ID'] or row['Date'].\n",
        "    '''\n",
        "    # Store results in a map, where key of map is the Product ID and\n",
        "    # each key has its own number and value\n",
        "    result = {}\n",
        "    lastCustomer = ''\n",
        "    uniqueProducts = []\n",
        "\n",
        "    for row in reader:\n",
        "      product = row['Product ID']\n",
        "\n",
        "      # Determine if product exists in result set\n",
        "      if product not in result:\n",
        "        result[product] = {}\n",
        "        result[product]['Customer Count'] = 0\n",
        "        result[product]['Total Revenue'] = 0\n",
        "\n",
        "      # Determine if customer is new\n",
        "      if row['Customer ID'] != lastCustomer:\n",
        "        lastCustomer = row['Customer ID']\n",
        "        uniqueProducts = []\n",
        "      \n",
        "      # Determine if product is unique to customer\n",
        "      if product not in uniqueProducts:\n",
        "        uniqueProducts.append(product)\n",
        "        result[product]['Customer Count'] += 1\n",
        "      \n",
        "      # Add value to product if purchased\n",
        "      result[product]['Total Revenue'] += float(row['Item Cost'])\n",
        "\n",
        "    pKeys = sorted(result.keys())\n",
        "    for key in pKeys:\n",
        "      approxPrice = str(round(result[key]['Total Revenue'],2))\n",
        "      yield f'{key},{result[key][\"Customer Count\"]},{approxPrice}'\n",
        "\n",
        "\n",
        "with open ('sales.csv', 'r') as fi:\n",
        "    reader = csv.DictReader(fi)\n",
        "    print('Product ID,Customer Count,Total Revenue')\n",
        "    for product in homework1(reader):\n",
        "        print(product)"
      ],
      "metadata": {
        "colab": {
          "base_uri": "https://localhost:8080/"
        },
        "id": "FdcQSD5sQVJm",
        "outputId": "f29b83ac-1309-4d27-f025-e4354b9b66cc"
      },
      "execution_count": null,
      "outputs": [
        {
          "output_type": "stream",
          "name": "stdout",
          "text": [
            "Product ID,Customer Count,Total Revenue\n",
            "P02291,16,1181.97\n",
            "P19498,17,989.99\n",
            "P32565,17,1006.09\n",
            "P33162,18,1210.92\n",
            "P39328,17,1129.01\n",
            "P58225,17,1349.82\n",
            "P61235,18,959.02\n",
            "P76615,18,1087.96\n",
            "P82222,17,950.05\n",
            "P92449,14,966.17\n"
          ]
        }
      ]
    },
    {
      "cell_type": "code",
      "execution_count": null,
      "metadata": {
        "id": "FrRdTZxwPC-O"
      },
      "outputs": [],
      "source": []
    }
  ],
  "metadata": {
    "colab": {
      "provenance": [],
      "toc_visible": true,
      "collapsed_sections": [],
      "include_colab_link": true
    },
    "kernelspec": {
      "display_name": "Python 3",
      "language": "python",
      "name": "python3"
    },
    "language_info": {
      "codemirror_mode": {
        "name": "ipython",
        "version": 3
      },
      "file_extension": ".py",
      "mimetype": "text/x-python",
      "name": "python",
      "nbconvert_exporter": "python",
      "pygments_lexer": "ipython3",
      "version": "3.7.3"
    }
  },
  "nbformat": 4,
  "nbformat_minor": 0
}